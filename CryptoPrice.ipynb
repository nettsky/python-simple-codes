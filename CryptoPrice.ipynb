{
  "nbformat": 4,
  "nbformat_minor": 0,
  "metadata": {
    "colab": {
      "provenance": [],
      "authorship_tag": "ABX9TyPcgsKL+3LZMsuGQG2+6YLw"
    },
    "kernelspec": {
      "name": "python3",
      "display_name": "Python 3"
    },
    "language_info": {
      "name": "python"
    }
  },
  "cells": [
    {
      "cell_type": "code",
      "execution_count": 9,
      "metadata": {
        "colab": {
          "base_uri": "https://localhost:8080/"
        },
        "id": "29h2D9dsqz9c",
        "outputId": "a3324a96-72e9-4996-b972-6bdbf2ad470c"
      },
      "outputs": [
        {
          "output_type": "stream",
          "name": "stdout",
          "text": [
            "ERROR: unknown command \"instal\" - maybe you meant \"install\"\n"
          ]
        }
      ],
      "source": [
        "pip instal requests\n"
      ]
    },
    {
      "cell_type": "code",
      "source": [
        "pip install bs4"
      ],
      "metadata": {
        "colab": {
          "base_uri": "https://localhost:8080/"
        },
        "id": "sqDet51rr21T",
        "outputId": "dc0382d2-d846-4213-b6f3-7efc4ee34ceb"
      },
      "execution_count": 15,
      "outputs": [
        {
          "output_type": "stream",
          "name": "stdout",
          "text": [
            "Looking in indexes: https://pypi.org/simple, https://us-python.pkg.dev/colab-wheels/public/simple/\n",
            "Requirement already satisfied: bs4 in /usr/local/lib/python3.10/dist-packages (0.0.1)\n",
            "Requirement already satisfied: beautifulsoup4 in /usr/local/lib/python3.10/dist-packages (from bs4) (4.11.2)\n",
            "Requirement already satisfied: soupsieve>1.2 in /usr/local/lib/python3.10/dist-packages (from beautifulsoup4->bs4) (2.4.1)\n"
          ]
        }
      ]
    },
    {
      "cell_type": "code",
      "source": [
        "import requests\n",
        "import bs4\n",
        "import pandas"
      ],
      "metadata": {
        "id": "BqYZWKTCsUEZ"
      },
      "execution_count": 55,
      "outputs": []
    },
    {
      "cell_type": "code",
      "source": [
        "res = requests.get('https://arzdigital.com/coins')\n",
        "dollar = []\n",
        "for i in td2:\n",
        "  dollar.append(i.span.text.replace('$',''))\n",
        "dictionary = {\n",
        "    'name' : name,\n",
        "    'dollar' : dollar,\n",
        "    'rial' : rial,\n",
        "}\n",
        "frame = pandas.DataFrame(dictionary)\n"
      ],
      "metadata": {
        "id": "W8ECDPOotIZ8"
      },
      "execution_count": 57,
      "outputs": []
    },
    {
      "cell_type": "code",
      "source": [
        "soup = bs4.BeautifulSoup(res.text)"
      ],
      "metadata": {
        "id": "DRA45P7lyY9N"
      },
      "execution_count": 20,
      "outputs": []
    },
    {
      "cell_type": "code",
      "source": [
        "td = soup.find_all('td', {\n",
        "    'class' : 'arz-coin-table__name-td arz-sort-value arz-scroll-column arz-middle-off'\n",
        "})"
      ],
      "metadata": {
        "id": "CkfaA1iOzff6"
      },
      "execution_count": 26,
      "outputs": []
    },
    {
      "cell_type": "code",
      "source": [
        "name = []\n",
        "for i in td:\n",
        "  name.append(i.span.text)"
      ],
      "metadata": {
        "id": "QxMqZ3xW2scX"
      },
      "execution_count": 28,
      "outputs": []
    },
    {
      "cell_type": "code",
      "source": [
        "td2 = soup.find_all('td', {\n",
        "    'class' : 'arz-coin-table__price-td arz-sort-value'\n",
        "})"
      ],
      "metadata": {
        "id": "7Ps1tJlr33y1"
      },
      "execution_count": 31,
      "outputs": []
    },
    {
      "cell_type": "code",
      "source": [
        "dollar = []\n",
        "for i in td2:\n",
        "  dollar.append(i.span.text.replace('$',''))"
      ],
      "metadata": {
        "id": "UjwoEGyA4u2_"
      },
      "execution_count": 36,
      "outputs": []
    },
    {
      "cell_type": "code",
      "source": [
        "td3 = soup.find_all('td',{\n",
        "    'class' : 'arz-coin-table__rial-price-td arz-sort-value'\n",
        "})"
      ],
      "metadata": {
        "id": "Dl6ls4yq5DTS"
      },
      "execution_count": 50,
      "outputs": []
    },
    {
      "cell_type": "code",
      "source": [
        "rial = []\n",
        "for j in td3:\n",
        "  rial.append(j.span.span.text)"
      ],
      "metadata": {
        "id": "TC-_2NTC_m6w"
      },
      "execution_count": 53,
      "outputs": []
    },
    {
      "cell_type": "code",
      "source": [
        "frame.to_html('CryptoPrice_get')"
      ],
      "metadata": {
        "id": "fQ-LTNQo_0O3"
      },
      "execution_count": 67,
      "outputs": []
    }
  ]
}